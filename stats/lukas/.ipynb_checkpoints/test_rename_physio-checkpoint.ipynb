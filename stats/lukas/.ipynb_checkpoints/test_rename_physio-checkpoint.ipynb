{
 "cells": [
  {
   "cell_type": "code",
   "execution_count": 1,
   "metadata": {},
   "outputs": [],
   "source": [
    "import os\n",
    "import os.path as op\n",
    "import numpy as np\n",
    "import pandas as pd\n",
    "import matplotlib\n",
    "import matplotlib.pyplot as plt\n",
    "from glob import glob\n",
    "import nibabel as nib\n",
    "import gzip\n",
    "import json"
   ]
  },
  {
   "cell_type": "code",
   "execution_count": 230,
   "metadata": {},
   "outputs": [],
   "source": [
    "class PhilipsPhysioLog:\n",
    "    \"\"\" Reads, converts, and aligns Philips physiology files (SCANPHYSLOG).\n",
    "    \"\"\"\n",
    " \n",
    "    def __init__(self, log_file, fmri_file=None, n_dyns=100, sf=500, tr=None):\n",
    "        \"\"\" Initializes PhilipsPhysioLog object. \n",
    "        # f: log files\n",
    "        # fmri_file: None by default, if given pick the tr duration and number\n",
    "        # sf: spatial frequency of log files\n",
    "        # tr: None by default, TR in seconds\n",
    "        \"\"\"\n",
    "        self.log_file = log_file\n",
    "        self.n_dyns = n_dyns\n",
    "        self.sf = sf\n",
    "        self.tr = tr\n",
    "        self.fmri_file = fmri_file\n",
    "\n",
    "        if fmri_file is not None:\n",
    "            img = nib.load(fmri_file)\n",
    "            self.tr = img.header['pixdim'][4]\n",
    "            self.n_dyns = img.header['dim'][4]           \n",
    "        \n",
    "        if self.tr is None:\n",
    "            raise ValueEror(\"Please provide a TR\")\n",
    "        \n",
    "        self.trs = self.tr * self.sf\n",
    "        \n",
    "    def load(self):\n",
    "        \n",
    "        # read the log file and create markers from log mark column\n",
    "        with open(self.log_file, 'r') as log_file_in:\n",
    "            for i, line in enumerate(log_file_in):\n",
    "                if line[:2] != '##':\n",
    "                    break\n",
    "        \n",
    "            txt = log_file_in.readlines()\n",
    "            txt = [line.replace('  ', ' ').replace('\\n', '') for line in txt if line != '#\\n']\n",
    "            self.markers = np.array([s.split(' ')[9] for s in txt])\n",
    "\n",
    "        # define start point\n",
    "        m_start_idx = np.where(self.markers == '0100')[0]\n",
    "        if len(m_start_idx) == 0:\n",
    "            m_start_idx = 0\n",
    "        else:\n",
    "            m_start_idx = m_start_idx[-1]\n",
    "        self.m_start_idx = 0\n",
    "        self.m_start_idx = m_start_idx\n",
    "        \n",
    "        # define end point\n",
    "        m_end_idx = np.where(self.markers == '0020')[0]\n",
    "        if len(m_end_idx) == 0:\n",
    "            m_end_idx = len(txt)\n",
    "        else:\n",
    "            m_end_idx = m_end_idx[-1]\n",
    "        self.m_end_idx = m_end_idx\n",
    "        self.m_end_idx = len(txt)\n",
    "        \n",
    "        # define data\n",
    "        self.dat = np.loadtxt(self.log_file, dtype=int, usecols=np.arange(9))\n",
    "        # define data lenght\n",
    "        self.n = self.dat.shape[0]\n",
    "        # define gradient data\n",
    "        self.grad = self.dat[:, (6, 7, 8)]\n",
    "\n",
    "        return self\n",
    "    \n",
    "    def align(self, trigger_method='gradient_log', which_grad='y'):\n",
    "        \n",
    "        real_triggers = np.where(self.markers == '0200')[0]\n",
    "        if len(real_triggers) != self.n_dyns:\n",
    "            print(f\"WARNING: expected to find {self.n_dyns} triggers, but found {len(real_triggers)}\")\n",
    "        self.real_triggers = real_triggers\n",
    "    \n",
    "    def to_bids(self):\n",
    "        base_name, _ = op.splitext(self.log_file)\n",
    "        \n",
    "        time = np.arange(self.n) / self.sf\n",
    "        start = time[self.real_triggers[0]]\n",
    "        time = time - start\n",
    "\n",
    "        info = {\n",
    "           \"SamplingFrequency\": self.sf,\n",
    "           \"StartTime\": time[0],\n",
    "           \"Columns\": [\"cardiac\", \"respiratory\", \"trigger\"]\n",
    "        }\n",
    "        \n",
    "        with open(f'{base_name}.json', \"w\") as write_file:\n",
    "            json.dump(info, write_file, indent=4)\n",
    "        \n",
    "        data = self.dat[:, 4:6]\n",
    "        pulses = np.zeros(self.n)\n",
    "        pulses[self.real_triggers] = 1\n",
    "        data = np.c_[data, pulses]\n",
    "        tsv_out = f'{base_name}.tsv'\n",
    "        np.savetxt(tsv_out, data, delimiter='\\t')\n",
    "        with open(tsv_out, 'rb') as f_in, gzip.open(tsv_out + '.gz', 'wb') as f_out:\n",
    "            print(f\"Saving to {tsv_out} ...\")\n",
    "            f_out.writelines(f_in)\n",
    "        os.remove(tsv_out)"
   ]
  },
  {
   "cell_type": "code",
   "execution_count": 231,
   "metadata": {},
   "outputs": [],
   "source": [
    "log = '/home/shared/2018/visual/pRFgazeMod/bids_data/sub-001/ses-02/func/sub-001_ses-02_task-AttendStimGazeCenter_run-1_physio.log'\n",
    "fmri = '/home/shared/2018/visual/pRFgazeMod/bids_data/sub-001/ses-02/func/sub-001_ses-02_task-AttendStimGazeCenter_run-1_bold.nii.gz'\n",
    "sf = 500"
   ]
  },
  {
   "cell_type": "code",
   "execution_count": 232,
   "metadata": {},
   "outputs": [
    {
     "name": "stdout",
     "output_type": "stream",
     "text": [
      "WARNING: expected to find 122 triggers, but found 124\n"
     ]
    }
   ],
   "source": [
    "a = PhilipsPhysioLog(log_file = log, fmri_file = fmri, sf = 500)\n",
    "a.load()\n",
    "a.align(trigger_method='vol_triggers')"
   ]
  },
  {
   "cell_type": "code",
   "execution_count": 237,
   "metadata": {},
   "outputs": [
    {
     "data": {
      "text/plain": [
       "array([   547,   1205,  45836,  46495,  47153,  47812,  48470,  49129,\n",
       "        49787,  50445,  51104,  51763,  52421,  53080,  53738,  54396,\n",
       "        55055,  55713,  56372,  57030,  57689,  58347,  59005,  59664,\n",
       "        60323,  60981,  61640,  62298,  62956,  63615,  64274,  64932,\n",
       "        65591,  66249,  66907,  67566,  68225,  68883,  69542,  70200,\n",
       "        70859,  71517,  72175,  72834,  73493,  74151,  74810,  75468,\n",
       "        76126,  76785,  77443,  78102,  78760,  79419,  80077,  80735,\n",
       "        81394,  82053,  82711,  83370,  84028,  84686,  85345,  86004,\n",
       "        86662,  87321,  87979,  88637,  89296,  89955,  90613,  91272,\n",
       "        91930,  92589,  93247,  93905,  94564,  95223,  95881,  96540,\n",
       "        97198,  97856,  98515,  99173,  99832, 100490, 101149, 101807,\n",
       "       102465, 103124, 103783, 104441, 105100, 105758, 106416, 107075,\n",
       "       107734, 108392, 109051, 109709, 110367, 111026, 111685, 112343,\n",
       "       113002, 113660, 114319, 114977, 115635, 116294, 116953, 117611,\n",
       "       118270, 118928, 119586, 120245, 120903, 121562, 122220, 122879,\n",
       "       123537, 124195, 124854, 125513])"
      ]
     },
     "execution_count": 237,
     "metadata": {},
     "output_type": "execute_result"
    }
   ],
   "source": [
    "a.real_triggers"
   ]
  },
  {
   "cell_type": "code",
   "execution_count": 235,
   "metadata": {},
   "outputs": [
    {
     "data": {
      "text/plain": [
       "(123,)"
      ]
     },
     "execution_count": 235,
     "metadata": {},
     "output_type": "execute_result"
    }
   ],
   "source": [
    "np.diff(a.real_triggers*2).shape"
   ]
  },
  {
   "cell_type": "code",
   "execution_count": 175,
   "metadata": {},
   "outputs": [
    {
     "ename": "AttributeError",
     "evalue": "'PhilipsPhysioLog' object has no attribute 'align_grad'",
     "output_type": "error",
     "traceback": [
      "\u001b[0;31m---------------------------------------------------------------------------\u001b[0m",
      "\u001b[0;31mAttributeError\u001b[0m                            Traceback (most recent call last)",
      "\u001b[0;32m<ipython-input-175-485d40eddece>\u001b[0m in \u001b[0;36m<module>\u001b[0;34m()\u001b[0m\n\u001b[0;32m----> 1\u001b[0;31m \u001b[0ma\u001b[0m\u001b[0;34m.\u001b[0m\u001b[0mplot_alignment\u001b[0m\u001b[0;34m(\u001b[0m\u001b[0mwin\u001b[0m\u001b[0;34m=\u001b[0m\u001b[0;36m4000\u001b[0m\u001b[0;34m,\u001b[0m \u001b[0mout_dir\u001b[0m\u001b[0;34m=\u001b[0m\u001b[0;34m'/home/shared/2018/visual/pRFgazeMod/bids_data/sub-001/ses-01/func/fig/'\u001b[0m\u001b[0;34m)\u001b[0m\u001b[0;34m\u001b[0m\u001b[0m\n\u001b[0m",
      "\u001b[0;32m<ipython-input-170-b34677128735>\u001b[0m in \u001b[0;36mplot_alignment\u001b[0;34m(self, win, out_dir)\u001b[0m\n\u001b[1;32m    225\u001b[0m \u001b[0;31m#         n_weird = self.weird_triggers.size\u001b[0m\u001b[0;34m\u001b[0m\u001b[0;34m\u001b[0m\u001b[0m\n\u001b[1;32m    226\u001b[0m         \u001b[0mfig\u001b[0m\u001b[0;34m,\u001b[0m \u001b[0max\u001b[0m \u001b[0;34m=\u001b[0m \u001b[0mplt\u001b[0m\u001b[0;34m.\u001b[0m\u001b[0msubplots\u001b[0m\u001b[0;34m(\u001b[0m\u001b[0mnrows\u001b[0m\u001b[0;34m=\u001b[0m\u001b[0;36m4\u001b[0m\u001b[0;34m,\u001b[0m \u001b[0mfigsize\u001b[0m\u001b[0;34m=\u001b[0m\u001b[0;34m(\u001b[0m\u001b[0;36m30\u001b[0m\u001b[0;34m,\u001b[0m \u001b[0;36m9\u001b[0m\u001b[0;34m)\u001b[0m\u001b[0;34m)\u001b[0m\u001b[0;34m\u001b[0m\u001b[0m\n\u001b[0;32m--> 227\u001b[0;31m         \u001b[0mamp\u001b[0m \u001b[0;34m=\u001b[0m \u001b[0mnp\u001b[0m\u001b[0;34m.\u001b[0m\u001b[0mmax\u001b[0m\u001b[0;34m(\u001b[0m\u001b[0;34m[\u001b[0m\u001b[0mself\u001b[0m\u001b[0;34m.\u001b[0m\u001b[0malign_grad\u001b[0m\u001b[0;34m.\u001b[0m\u001b[0mmin\u001b[0m\u001b[0;34m(\u001b[0m\u001b[0;34m)\u001b[0m \u001b[0;34m*\u001b[0m \u001b[0;36m.25\u001b[0m\u001b[0;34m,\u001b[0m \u001b[0;36m1\u001b[0m\u001b[0;34m]\u001b[0m\u001b[0;34m)\u001b[0m\u001b[0;34m\u001b[0m\u001b[0m\n\u001b[0m\u001b[1;32m    228\u001b[0m         \u001b[0mdummy_triggers\u001b[0m \u001b[0;34m=\u001b[0m \u001b[0mnp\u001b[0m\u001b[0;34m.\u001b[0m\u001b[0mzeros\u001b[0m\u001b[0;34m(\u001b[0m\u001b[0mself\u001b[0m\u001b[0;34m.\u001b[0m\u001b[0mn\u001b[0m\u001b[0;34m)\u001b[0m\u001b[0;34m\u001b[0m\u001b[0m\n\u001b[1;32m    229\u001b[0m         \u001b[0mdummy_triggers\u001b[0m\u001b[0;34m[\u001b[0m\u001b[0mself\u001b[0m\u001b[0;34m.\u001b[0m\u001b[0mdummy_triggers\u001b[0m\u001b[0;34m]\u001b[0m \u001b[0;34m=\u001b[0m \u001b[0mamp\u001b[0m\u001b[0;34m\u001b[0m\u001b[0m\n",
      "\u001b[0;31mAttributeError\u001b[0m: 'PhilipsPhysioLog' object has no attribute 'align_grad'"
     ]
    }
   ],
   "source": [
    "a.plot_alignment(win=4000, out_dir='/home/shared/2018/visual/pRFgazeMod/bids_data/sub-001/ses-01/func/fig/')"
   ]
  },
  {
   "cell_type": "code",
   "execution_count": null,
   "metadata": {},
   "outputs": [],
   "source": [
    "# read the log file and create markers from log mark column\n",
    "file = 'stats/lukas/sub-13_ses-mapper1_task-floc_run-1_physio.tsv'\n",
    "with open(file, 'r') as log_file_in:\n",
    "\n",
    "    txt = log_file_in.readlines()\n",
    "#     txt = [line.replace('  ', ' ').replace('\\n', '') for line in txt if line != '#\\n']\n",
    "#     self.markers = np.array([s.split(' ')[9] for s in txt])\n",
    "\n"
   ]
  }
 ],
 "metadata": {
  "kernelspec": {
   "display_name": "Python 3",
   "language": "python",
   "name": "python3"
  },
  "language_info": {
   "codemirror_mode": {
    "name": "ipython",
    "version": 3
   },
   "file_extension": ".py",
   "mimetype": "text/x-python",
   "name": "python",
   "nbconvert_exporter": "python",
   "pygments_lexer": "ipython3",
   "version": "3.6.3"
  }
 },
 "nbformat": 4,
 "nbformat_minor": 2
}
