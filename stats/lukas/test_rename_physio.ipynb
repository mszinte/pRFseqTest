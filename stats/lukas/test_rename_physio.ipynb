{
 "cells": [
  {
   "cell_type": "code",
   "execution_count": 11,
   "metadata": {},
   "outputs": [],
   "source": [
    "import os\n",
    "import os.path as op\n",
    "import numpy as np\n",
    "import pandas as pd\n",
    "import matplotlib\n",
    "import matplotlib.pyplot as plt\n",
    "from glob import glob\n",
    "import nibabel as nib\n",
    "import gzip\n",
    "import json"
   ]
  },
  {
   "cell_type": "code",
   "execution_count": 24,
   "metadata": {},
   "outputs": [],
   "source": [
    "class PhilipsPhysioLog:\n",
    "    \"\"\" Reads, converts, and aligns Philips physiology files (SCANPHYSLOG).\n",
    "    \"\"\"\n",
    " \n",
    "    def __init__(self, log_file, fmri_file=None, n_dyns=100, sf=500, tr=None):\n",
    "        \"\"\" Initializes PhilipsPhysioLog object. \n",
    "        # f: log files\n",
    "        # fmri_file: None by default, if given pick the tr duration and number\n",
    "        # sf: spatial frequency of log files\n",
    "        # tr: None by default, TR in seconds\n",
    "        \"\"\"\n",
    "        self.log_file = log_file\n",
    "        self.n_dyns = n_dyns\n",
    "        self.sf = sf\n",
    "        self.tr = tr\n",
    "        self.fmri_file = fmri_file\n",
    "\n",
    "        if fmri_file is not None:\n",
    "            img = nib.load(fmri_file)\n",
    "            self.tr = img.header['pixdim'][4]\n",
    "            self.n_dyns = img.header['dim'][4]           \n",
    "        \n",
    "        if self.tr is None:\n",
    "            raise ValueEror(\"Please provide a TR\")\n",
    "        \n",
    "        self.trs = self.tr * self.sf\n",
    "        \n",
    "    def load(self):\n",
    "        \n",
    "        # read the log file and create markers from log mark column\n",
    "        with open(self.log_file, 'r') as log_file_in:\n",
    "            for i, line in enumerate(log_file_in):\n",
    "                if line[:2] != '##':\n",
    "                    break\n",
    "        \n",
    "            txt = log_file_in.readlines()\n",
    "            txt = [line.replace('  ', ' ').replace('\\n', '') for line in txt if line != '#\\n']\n",
    "            self.markers = np.array([s.split(' ')[9] for s in txt])\n",
    "\n",
    "        # define start point\n",
    "        m_start_idx = np.where(self.markers == '0100')[0]\n",
    "        if len(m_start_idx) == 0:\n",
    "            m_start_idx = 0\n",
    "        else:\n",
    "            m_start_idx = m_start_idx[-1]\n",
    "        self.m_start_idx = 0\n",
    "        self.m_start_idx = m_start_idx\n",
    "        \n",
    "        # define end point\n",
    "        m_end_idx = np.where(self.markers == '0020')[0]\n",
    "        if len(m_end_idx) == 0:\n",
    "            m_end_idx = len(txt)\n",
    "        else:\n",
    "            m_end_idx = m_end_idx[-1]\n",
    "        self.m_end_idx = m_end_idx\n",
    "        self.m_end_idx = len(txt)\n",
    "        \n",
    "        # define data\n",
    "        self.dat = np.loadtxt(self.log_file, dtype=int, usecols=np.arange(9))\n",
    "        # define data lenght\n",
    "        self.n = self.dat.shape[0]\n",
    "        # define gradient data\n",
    "        self.grad = self.dat[:, (6, 7, 8)]\n",
    "\n",
    "        return self\n",
    "    \n",
    "    def align(self, trigger_method='gradient_log', which_grad='y'):\n",
    "        \n",
    "        real_triggers = np.where(self.markers == '0200')[0]\n",
    "        if len(real_triggers) != self.n_dyns:\n",
    "            print(f\"WARNING: expected to find {self.n_dyns} triggers, but found {len(real_triggers)}\")\n",
    "        self.real_triggers = real_triggers\n",
    "    \n",
    "    def to_bids(self):\n",
    "        base_name, _ = op.splitext(self.log_file)\n",
    "        \n",
    "        time = np.arange(self.n) / self.sf\n",
    "        start = time[self.real_triggers[0]]\n",
    "        time = time - start\n",
    "\n",
    "        info = {\n",
    "           \"SamplingFrequency\": self.sf,\n",
    "           \"StartTime\": time[0],\n",
    "           \"Columns\": [\"cardiac\", \"respiratory\", \"trigger\"]\n",
    "        }\n",
    "        \n",
    "        with open(f'{base_name}.json', \"w\") as write_file:\n",
    "            json.dump(info, write_file, indent=4)\n",
    "        \n",
    "        data = self.dat[:, 4:6]\n",
    "        pulses = np.zeros(self.n)\n",
    "        pulses[self.real_triggers] = 1\n",
    "        data = np.c_[data, pulses]\n",
    "        tsv_out = f'{base_name}.tsv'\n",
    "        np.savetxt(tsv_out, data, delimiter='\\t')\n",
    "        with open(tsv_out, 'rb') as f_in, gzip.open(tsv_out + '.gz', 'wb') as f_out:\n",
    "            print(f\"Saving to {tsv_out} ...\")\n",
    "            f_out.writelines(f_in)\n",
    "        os.remove(tsv_out)"
   ]
  },
  {
   "cell_type": "code",
   "execution_count": 35,
   "metadata": {},
   "outputs": [],
   "source": [
    "log = '/home/shared/2018/visual/pRFgazeMod/bids_data/sub-007/ses-01/func/sub-007_ses-01_task-AttendStimGazeCenter_run-1_physio.log'\n",
    "fmri = '/home/shared/2018/visual/pRFgazeMod/bids_data/sub-007/ses-01/func/sub-007_ses-01_task-AttendStimGazeCenter_run-1_bold.nii.gz'\n",
    "sf = 500"
   ]
  },
  {
   "cell_type": "code",
   "execution_count": 36,
   "metadata": {},
   "outputs": [
    {
     "name": "stdout",
     "output_type": "stream",
     "text": [
      "WARNING: expected to find 122 triggers, but found 129\n"
     ]
    }
   ],
   "source": [
    "a = PhilipsPhysioLog(log_file = log, fmri_file = fmri, sf = 500)\n",
    "a.load()\n",
    "a.align(trigger_method='vol_triggers')"
   ]
  },
  {
   "cell_type": "code",
   "execution_count": 70,
   "metadata": {},
   "outputs": [
    {
     "data": {
      "text/plain": [
       "array([  658, 40500,   659,   659,   658,   658,   659,   658,   659,\n",
       "         659,   658,   659,   658,   659,   658,   658,   659,   658,\n",
       "         659,   658,   659,   658,   659,   658,   659,   658,   659,\n",
       "         658,   658,   659,   659,   658,   659,   658,   658,   659,\n",
       "         659,   658,  1317,   658,   659,   659,   658,   659,   658,\n",
       "         659,   658,   658,   659,   658,   659,   658,   659,   658,\n",
       "         659,   658,   659,   658,   659,   658,   658,   659,   659,\n",
       "         658,   659,   658,   658,   659,   659,   658,   658,   659,\n",
       "         658,   659,   659,   658,   659,  1317,   658,   658,   659,\n",
       "         658,   659,   658,   659,   658,   659,   658,   659,   658,\n",
       "         659,   658,   658,   659,   659,   658,   659,   658,   658,\n",
       "         659,   659,   658,   658,   659,   658,   659,   659,   658,\n",
       "         659,   658,   659,   658,   658,   659,   658,   659,   658,\n",
       "         659,   658,   659,   658])"
      ]
     },
     "execution_count": 70,
     "metadata": {},
     "output_type": "execute_result"
    }
   ],
   "source": [
    "trig = a.real_triggers[(a.real_triggers.shape[0] - a.n_dyns):]\n",
    "np.diff(trig)"
   ]
  },
  {
   "cell_type": "code",
   "execution_count": 86,
   "metadata": {},
   "outputs": [
    {
     "data": {
      "text/plain": [
       "70961"
      ]
     },
     "execution_count": 86,
     "metadata": {},
     "output_type": "execute_result"
    }
   ],
   "source": [
    "trig[39]"
   ]
  },
  {
   "cell_type": "code",
   "execution_count": 89,
   "metadata": {},
   "outputs": [
    {
     "data": {
      "text/plain": [
       "array([  4780,   5438,  45938,  46597,  47256,  47914,  48572,  49231,\n",
       "        49889,  50548,  51207,  51865,  52524,  53182,  53841,  54499,\n",
       "        55157,  55816,  56474,  57133,  57791,  58450,  59108,  59767,\n",
       "        60425,  61084,  61742,  62401,  63059,  63717,  64376,  65035,\n",
       "        65693,  66352,  67010,  67668,  68327,  68986,  69644,  70961,\n",
       "        71619,  72278,  72937,  73595,  74254,  74912,  75571,  76229,\n",
       "        76887,  77546,  78204,  78863,  79521,  80180,  80838,  81497,\n",
       "        82155,  82814,  83472,  84131,  84789,  85447,  86106,  86765,\n",
       "        87423,  88082,  88740,  89398,  90057,  90716,  91374,  92032,\n",
       "        92691,  93349,  94008,  94667,  95325,  95984,  97301,  97959,\n",
       "        98617,  99276,  99934, 100593, 101251, 101910, 102568, 103227,\n",
       "       103885, 104544, 105202, 105861, 106519, 107177, 107836, 108495,\n",
       "       109153, 109812, 110470, 111128, 111787, 112446, 113104, 113762,\n",
       "       114421, 115079, 115738, 116397, 117055, 117714, 118372, 119031,\n",
       "       119689, 120347, 121006, 121664, 122323, 122981, 123640, 124298,\n",
       "       124957, 125615])"
      ]
     },
     "execution_count": 89,
     "metadata": {},
     "output_type": "execute_result"
    }
   ],
   "source": [
    "trig"
   ]
  },
  {
   "cell_type": "code",
   "execution_count": 34,
   "metadata": {},
   "outputs": [],
   "source": [
    "# read the log file and create markers from log mark column\n",
    "file = 'projects/pRFgazeMod/stats/lukas/sub-13_ses-mapper1_task-floc_run-1_physio.tsv'\n",
    "\n",
    "df = pd.read_csv(file, sep=\"\\t\")   # read dummy .tsv file into memory\n",
    "a = df.values  # access the numpy array containing values"
   ]
  },
  {
   "cell_type": "code",
   "execution_count": 23,
   "metadata": {},
   "outputs": [
    {
     "data": {
      "text/plain": [
       "array([[1318, 1316, 1318, 1316, 1318, 1316, 1318, 1316, 1316, 1318, 1318,\n",
       "        1316, 1318, 1318, 1314, 1318, 1318, 1318, 1314, 1318, 1316, 1318,\n",
       "        1318, 1316, 1318, 1316, 1316, 1318, 1316, 1318, 1316, 1318, 1316,\n",
       "        1318, 1316, 1318, 1316, 1318, 1316, 1318, 1316, 1318, 1316, 1318,\n",
       "        1316, 1318, 1316, 1316, 1318, 1318, 1316, 1316, 1318, 1318, 1316,\n",
       "        1318, 1316, 1318, 1316, 1318, 1316, 1316, 1318, 1316, 1318, 1318,\n",
       "        1316, 1316, 1318, 1316, 1318, 1316, 1318, 1318, 1314, 1318, 1318,\n",
       "        1316, 1318, 1316, 1316, 1318, 1318, 1316, 1316, 1320, 1314, 1318,\n",
       "        1318, 1318, 1316, 1316, 1318, 1316, 1316, 1318, 1316, 1318, 1316,\n",
       "        1318, 1316, 1318, 1316, 1318, 1316, 1318, 1316, 1316, 1318, 1318,\n",
       "        1316, 1318, 1316, 1316, 1318, 1318, 1316, 1316, 1318, 1316, 1318,\n",
       "        1318, 1316, 1318, 1316, 1318, 1316, 1316, 1318, 1318, 1316, 1316,\n",
       "        1318, 1316, 1318, 1316, 1318, 1318, 1316, 1316, 1316, 1318, 1318,\n",
       "        1316, 1318, 1318, 1314, 1318, 1318, 1316, 1316, 1318, 1316, 1318,\n",
       "        1318, 1316, 1318, 1316, 1318, 1316, 1316, 1318, 1316, 1318, 1316,\n",
       "        1318, 1316, 1318, 1316, 1318, 1316, 1318, 1316, 1316, 1318, 1318,\n",
       "        1316, 1318, 1316, 1316, 1318, 1318, 1316, 1316, 1318, 1316, 1318,\n",
       "        1318, 1316, 1318, 1316, 1318, 1316, 1316, 1318, 1316, 1318, 1316,\n",
       "        1318, 1316, 1318, 1316, 1318, 1316, 1318, 1316, 1316, 1318, 1318,\n",
       "        1316, 1318, 1316, 1316, 1318, 1318, 1316, 1316, 1318, 1316, 1318,\n",
       "        1318, 1316, 1318, 1316, 1318, 1316, 1316, 1318, 1316, 1318, 1316]])"
      ]
     },
     "execution_count": 23,
     "metadata": {},
     "output_type": "execute_result"
    }
   ],
   "source": [
    "np.diff(np.where((a[:,2])==1.0))*2"
   ]
  },
  {
   "cell_type": "code",
   "execution_count": null,
   "metadata": {},
   "outputs": [],
   "source": []
  }
 ],
 "metadata": {
  "kernelspec": {
   "display_name": "Python 3",
   "language": "python",
   "name": "python3"
  },
  "language_info": {
   "codemirror_mode": {
    "name": "ipython",
    "version": 3
   },
   "file_extension": ".py",
   "mimetype": "text/x-python",
   "name": "python",
   "nbconvert_exporter": "python",
   "pygments_lexer": "ipython3",
   "version": "3.6.3"
  }
 },
 "nbformat": 4,
 "nbformat_minor": 2
}
