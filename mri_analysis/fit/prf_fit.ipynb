{
 "cells": [
  {
   "cell_type": "code",
   "execution_count": 99,
   "metadata": {},
   "outputs": [],
   "source": [
    "# Stop warnings\n",
    "# -------------\n",
    "import warnings\n",
    "warnings.filterwarnings(\"ignore\")\n",
    "\n",
    "# General imports\n",
    "# ---------------\n",
    "import sys\n",
    "import multiprocessing\n",
    "import numpy as np\n",
    "import scipy.io\n",
    "import platform\n",
    "from math import *\n",
    "import os\n",
    "import glob\n",
    "import json\n",
    "import ipdb\n",
    "deb = ipdb.set_trace\n",
    "opj = os.path.join\n",
    "\n",
    "# MRI analysis imports\n",
    "# --------------------\n",
    "import popeye.utilities as utils\n",
    "from popeye.visual_stimulus import VisualStimulus\n",
    "import popeye.css_neg as css\n",
    "import popeye.og_neg as og\n",
    "import nibabel as nb\n",
    "\n",
    "# Get inputs\n",
    "# ----------\n",
    "cluster_name = 'debug'\n",
    "fit_model = 'gauss'\n",
    "subject = 'sub-01'\n",
    "data_file = '/scratch/mszinte/data/pRFseqTest/pp_data/sub-01/func/sub-01_task-AttendStim_acq-2p5mm_fmriprep_sg_psc_avg.nii.gz'\n",
    "mask_file = '/scratch/mszinte/data/pRFseqTest/pp_data/sub-01/func/sub-01_task-AttendStim_acq-2p5mm_fmriprep_mask_avg.nii.gz'\n",
    "slice_nb = 7\n",
    "opfn = '/scratch/mszinte/data/pRFseqTest/pp_data/sub-01/gauss/fit/test.nii.gz'\n",
    "\n",
    "# Define analysis parameters\n",
    "with open('../settings.json') as f:\n",
    "    json_s = f.read()\n",
    "    analysis_info = json.loads(json_s)\n",
    "    \n",
    "# Define cluster/server specific parameters\n",
    "if cluster_name  == 'skylake':\n",
    "    nb_procs = 32\n",
    "elif cluster_name  == 'skylake':\n",
    "    nb_procs = 12\n",
    "elif cluster_name == 'debug':\n",
    "    nb_procs = 1\n",
    "fit_steps = analysis_info[\"fit_steps\"]"
   ]
  },
  {
   "cell_type": "code",
   "execution_count": 100,
   "metadata": {},
   "outputs": [],
   "source": [
    "# Load data\n",
    "data_img = nb.load(data_file)\n",
    "data = data_img.get_fdata()\n",
    "mask_img = nb.load(mask_file)\n",
    "mask = mask_img.get_fdata()\n",
    "slice_mask = mask[:, :, slice_nb].astype(bool)\n",
    "num_vox = np.sum(slice_mask)\n",
    "data_slice = data[:,:,slice_nb,:]\n",
    "data_to_analyse = data_slice[slice_mask]\n",
    "\n",
    "# determine voxel indices\n",
    "y, x = np.meshgrid( np.arange(data.shape[1]),np.arange(data.shape[0]))\n",
    "x_vox,y_vox = x[slice_mask],y[slice_mask]\n",
    "vox_indices = [(xx,yy,slice_nb) for xx,yy in zip(x_vox,y_vox)]\n"
   ]
  },
  {
   "cell_type": "code",
   "execution_count": 101,
   "metadata": {},
   "outputs": [],
   "source": [
    "# Create stimulus design (create in matlab - see others/make_visual_dm.m)\n",
    "visual_dm_file = scipy.io.loadmat(opj(analysis_info['base_dir'],'pp_data','visual_dm','vis_design.mat'))\n",
    "visual_dm = visual_dm_file['stim']\n",
    "stimulus = VisualStimulus(  stim_arr = visual_dm,\n",
    "                            viewing_distance = analysis_info[\"screen_distance\"],\n",
    "                            screen_width = analysis_info[\"screen_width\"],\n",
    "                            scale_factor = 1/10.0,\n",
    "                            tr_length = analysis_info[\"TR\"],\n",
    "                            dtype = np.short)"
   ]
  },
  {
   "cell_type": "code",
   "execution_count": 102,
   "metadata": {},
   "outputs": [
    {
     "name": "stdout",
     "output_type": "stream",
     "text": [
      "models and stimulus loaded\n"
     ]
    }
   ],
   "source": [
    "# Initialize model\n",
    "if fit_model == 'gauss':\n",
    "    fit_func = og.GaussianFit\n",
    "    num_est = 6\n",
    "    model_func = og.GaussianModel(  stimulus = stimulus,\n",
    "                                    hrf_model = utils.spm_hrf)\n",
    "elif fit_model == 'css':\n",
    "    fit_func = css.CompressiveSpatialSummationFit\n",
    "    num_est = 7\n",
    "    model_func = css.CompressiveSpatialSummationModel(  stimulus = stimulus,\n",
    "                                                        hrf_model = utils.spm_hrf)\n",
    "model_func.hrf_delay = 0\n",
    "print('models and stimulus loaded')"
   ]
  },
  {
   "cell_type": "code",
   "execution_count": 103,
   "metadata": {},
   "outputs": [],
   "source": [
    "# Fit: define search grids (1.5 time stimulus radius)\n",
    "x_grid = (-15, 15)\n",
    "y_grid = (-15, 15)\n",
    "sigma_grid = (0.05, 15)\n",
    "n_grid =  (0.01, 1.5)\n",
    "\n",
    "# Fit: define search bounds (3 time stimulus radius)\n",
    "x_bound = (-30.0, 30.0)\n",
    "y_bound = (-30.0, 30.0)\n",
    "sigma_bound = (0.001, 30.0)\n",
    "n_bound = (0.01, 3)\n",
    "beta_bound = (-1e3, 1e3)\n",
    "baseline_bound = (-1e3, 1e3)\n",
    "\n",
    "if fit_model == 'gauss':\n",
    "    fit_model_grids =  (x_grid, y_grid, sigma_grid)\n",
    "    fit_model_bounds = (x_bound, y_bound, sigma_bound, beta_bound, baseline_bound)\n",
    "elif fit_model == 'css':\n",
    "    fit_model_grids =  (x_grid, y_grid, sigma_grid, n_grid)\n",
    "    fit_model_bounds = (x_bound, y_bound, sigma_bound, n_bound, beta_bound, baseline_bound)"
   ]
  },
  {
   "cell_type": "code",
   "execution_count": 105,
   "metadata": {},
   "outputs": [
    {
     "name": "stdout",
     "output_type": "stream",
     "text": [
      "Slice 7 containing 30 brain mask voxels\n",
      "VOXEL=(025,012,007)   TIME=037   RSQ=nan  EST=[  0.7854 278.8973 212.2602      nan      nan]\n",
      "VOXEL=(022,012,007)   TIME=013   RSQ=0.02  EST=[2.1141 5.8132 0.0313 5.395  0.2647]\n",
      "VOXEL=(016,016,007)   TIME=037   RSQ=nan  EST=[  0.7854 278.8973 212.2602      nan      nan]\n",
      "VOXEL=(018,014,007)   TIME=011   RSQ=0.01  EST=[   3.8879   40.8597    7.2801    0.9907 -156.5517]\n",
      "VOXEL=(023,012,007)   TIME=005   RSQ=0.00  EST=[  0.2308  11.0019   0.4725   1.0101 -38.5134]\n",
      "VOXEL=(021,012,007)   TIME=009   RSQ=0.02  EST=[1.1642 9.9037 0.0047 1.0635 2.3199]\n",
      "VOXEL=(019,015,007)   TIME=037   RSQ=nan  EST=[  0.7854 278.8973 212.2602      nan      nan]\n",
      "VOXEL=(024,013,007)   TIME=037   RSQ=nan  EST=[  0.7854 278.8973 212.2602      nan      nan]\n",
      "VOXEL=(016,015,007)   TIME=036   RSQ=nan  EST=[  0.7854 278.8973 212.2602      nan      nan]\n",
      "VOXEL=(017,015,007)   TIME=036   RSQ=nan  EST=[  0.7854 278.8973 212.2602      nan      nan]\n",
      "VOXEL=(036,010,007)   TIME=037   RSQ=nan  EST=[  0.7854 278.8973 212.2602      nan      nan]\n",
      "VOXEL=(025,013,007)   TIME=037   RSQ=nan  EST=[  0.7854 278.8973 212.2602      nan      nan]\n",
      "VOXEL=(023,014,007)   TIME=038   RSQ=nan  EST=[  0.7854 278.8973 212.2602      nan      nan]\n",
      "VOXEL=(026,012,007)   TIME=038   RSQ=nan  EST=[  0.7854 278.8973 212.2602      nan      nan]\n",
      "VOXEL=(022,014,007)   TIME=038   RSQ=nan  EST=[  0.7854 278.8973 212.2602      nan      nan]\n",
      "VOXEL=(019,014,007)   TIME=039   RSQ=nan  EST=[  0.7854 278.8973 212.2602      nan      nan]\n",
      "VOXEL=(021,013,007)   TIME=037   RSQ=nan  EST=[  0.7854 278.8973 212.2602      nan      nan]\n",
      "VOXEL=(035,010,007)   TIME=037   RSQ=nan  EST=[  0.7854 278.8973 212.2602      nan      nan]\n",
      "VOXEL=(020,014,007)   TIME=036   RSQ=nan  EST=[  0.7854 278.8973 212.2602      nan      nan]\n",
      "VOXEL=(018,015,007)   TIME=036   RSQ=nan  EST=[  0.7854 278.8973 212.2602      nan      nan]\n",
      "VOXEL=(024,012,007)   TIME=036   RSQ=nan  EST=[  0.7854 278.8973 212.2602      nan      nan]\n",
      "VOXEL=(017,016,007)   TIME=036   RSQ=nan  EST=[  0.7854 278.8973 212.2602      nan      nan]\n",
      "VOXEL=(020,013,007)   TIME=029   RSQ=0.05  EST=[ 6.0477 30.851   0.5141  1.5624  1.6171]\n",
      "VOXEL=(023,013,007)   TIME=039   RSQ=nan  EST=[  0.7854 278.8973 212.2602      nan      nan]\n",
      "VOXEL=(015,016,007)   TIME=042   RSQ=nan  EST=[  0.7854 278.8973 212.2602      nan      nan]\n",
      "VOXEL=(019,013,007)   TIME=006   RSQ=0.06  EST=[ 4.529   9.3446 12.185   2.0954 -0.0773]\n",
      "VOXEL=(020,015,007)   TIME=040   RSQ=nan  EST=[  0.7854 278.8973 212.2602      nan      nan]\n",
      "VOXEL=(022,013,007)   TIME=038   RSQ=nan  EST=[  0.7854 278.8973 212.2602      nan      nan]\n",
      "VOXEL=(026,013,007)   TIME=039   RSQ=nan  EST=[  0.7854 278.8973 212.2602      nan      nan]\n",
      "VOXEL=(021,014,007)   TIME=037   RSQ=nan  EST=[  0.7854 278.8973 212.2602      nan      nan]\n"
     ]
    }
   ],
   "source": [
    "# Fit: main loop\n",
    "# --------------\n",
    "print(\"Slice {slice_nb} containing {num_vox} brain mask voxels\".format(slice_nb = slice_nb, num_vox = num_vox))\n",
    "\n",
    "# Define data\n",
    "estimates = np.zeros((num_est,data.shape[1]))\n",
    "\n",
    "# Define multiprocess bundle\n",
    "bundle = utils.multiprocess_bundle( Fit = fit_func,\n",
    "                                    model = model_func,\n",
    "                                    data = data_to_analyse,\n",
    "                                    grids = fit_model_grids, \n",
    "                                    bounds = fit_model_bounds, \n",
    "                                    indices = vox_indices, \n",
    "                                    auto_fit = True, \n",
    "                                    verbose = 1, \n",
    "                                    Ns = fit_steps)\n",
    "# Run fitting\n",
    "pool = multiprocessing.Pool(processes = nb_procs)\n",
    "output = pool.map(  func = utils.parallel_fit, \n",
    "                    iterable = bundle)\n",
    "\n",
    "for fit in output:\n",
    "    estimates[:num_est-1,fit.voxel_index[0]] = fit.estimate\n",
    "    estimates[num_est-1,fit.voxel_index[0]] = fit.rsquared"
   ]
  },
  {
   "cell_type": "code",
   "execution_count": 106,
   "metadata": {},
   "outputs": [],
   "source": [
    "# Free up memory\n",
    "pool.close()\n",
    "pool.join()\n",
    "\n",
    "# Save estimates data\n",
    "# find a way to put it in the right place in the voxel space using 4th to 4+estimate num dimensions\n",
    "new_img = nb.Nifti1Image(dataobj = estimates, affine = data_img.affine, header = data_img.header)\n",
    "new_img.to_filename(opfn)"
   ]
  },
  {
   "cell_type": "code",
   "execution_count": null,
   "metadata": {},
   "outputs": [],
   "source": []
  }
 ],
 "metadata": {
  "kernelspec": {
   "display_name": "Python 3",
   "language": "python",
   "name": "python3"
  },
  "language_info": {
   "codemirror_mode": {
    "name": "ipython",
    "version": 3
   },
   "file_extension": ".py",
   "mimetype": "text/x-python",
   "name": "python",
   "nbconvert_exporter": "python",
   "pygments_lexer": "ipython3",
   "version": "3.6.8"
  }
 },
 "nbformat": 4,
 "nbformat_minor": 4
}
