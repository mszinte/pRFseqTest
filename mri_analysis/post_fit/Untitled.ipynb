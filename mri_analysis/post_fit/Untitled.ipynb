{
 "cells": [
  {
   "cell_type": "code",
   "execution_count": 1,
   "metadata": {},
   "outputs": [
    {
     "ename": "TabError",
     "evalue": "inconsistent use of tabs and spaces in indentation (utils.py, line 575)",
     "output_type": "error",
     "traceback": [
      "Traceback \u001b[0;36m(most recent call last)\u001b[0m:\n",
      "  File \u001b[1;32m\"/Users/martin/anaconda3/envs/idp/lib/python3.6/site-packages/IPython/core/interactiveshell.py\"\u001b[0m, line \u001b[1;32m3326\u001b[0m, in \u001b[1;35mrun_code\u001b[0m\n    exec(code_obj, self.user_global_ns, self.user_ns)\n",
      "  File \u001b[1;32m\"<ipython-input-1-25433be14e78>\"\u001b[0m, line \u001b[1;32m16\u001b[0m, in \u001b[1;35m<module>\u001b[0m\n    import cortex\n",
      "  File \u001b[1;32m\"/Users/martin/pycortex/cortex/__init__.py\"\u001b[0m, line \u001b[1;32m6\u001b[0m, in \u001b[1;35m<module>\u001b[0m\n    from cortex import align, volume, quickflat, webgl, segment, options\n",
      "  File \u001b[1;32m\"/Users/martin/pycortex/cortex/quickflat/__init__.py\"\u001b[0m, line \u001b[1;32m1\u001b[0m, in \u001b[1;35m<module>\u001b[0m\n    from .view import make_figure, make_png, make_svg, make_movie, make_gif\n",
      "\u001b[0;36m  File \u001b[0;32m\"/Users/martin/pycortex/cortex/quickflat/view.py\"\u001b[0;36m, line \u001b[0;32m7\u001b[0;36m, in \u001b[0;35m<module>\u001b[0;36m\u001b[0m\n\u001b[0;31m    from .. import utils\u001b[0m\n",
      "\u001b[0;36m  File \u001b[0;32m\"/Users/martin/pycortex/cortex/utils.py\"\u001b[0;36m, line \u001b[0;32m575\u001b[0m\n\u001b[0;31m    raise KeyError(\"Requested ROI {} not found in overlays.svg!\".format(key))\u001b[0m\n\u001b[0m                                                                             ^\u001b[0m\n\u001b[0;31mTabError\u001b[0m\u001b[0;31m:\u001b[0m inconsistent use of tabs and spaces in indentation\n"
     ]
    }
   ],
   "source": [
    "# General imports\n",
    "# ---------------\n",
    "import os\n",
    "import shutil\n",
    "import sys\n",
    "import json\n",
    "import numpy as np\n",
    "import ipdb\n",
    "import matplotlib.pyplot as plt\n",
    "opj = os.path.join\n",
    "deb = ipdb.set_trace\n",
    "\n",
    "# MRI imports\n",
    "# -----------\n",
    "import nibabel as nb\n",
    "import cortex\n",
    "\n",
    "# Function import\n",
    "# ---------------\n",
    "from utils import set_pycortex_config_file\n",
    "\n",
    "# Get inputs\n",
    "# ----------\n",
    "subject = sys.argv[1]\n",
    "# acq = sys.argv[2]\n",
    "# fit_model = sys.argv[3]\n",
    "\n",
    "# Define analysis parameters\n",
    "# --------------------------\n",
    "with open('../settings.json') as f:\n",
    "    json_s = f.read()\n",
    "    analysis_info = json.loads(json_s)\n",
    "\n",
    "# Define folders and settings\n",
    "# ---------------------------\n",
    "base_dir = analysis_info['base_dir_local']\n",
    "xfm_name = analysis_info['xfm_name']\n",
    "rois = analysis_info['rois']\n",
    "gm_sampler = analysis_info['gm_sampler']\n",
    "\n",
    "# Set pycortex db and colormaps\n",
    "# -----------------------------\n",
    "set_pycortex_config_file(base_dir)"
   ]
  },
  {
   "cell_type": "code",
   "execution_count": null,
   "metadata": {},
   "outputs": [],
   "source": [
    "# Create ROI masks\n",
    "# ----------------\n",
    "roi_masks = cortex.utils.get_roi_masks(subject = subject, xfmname = xfm_name, roi_list = ['V3'], return_dict=True)"
   ]
  },
  {
   "cell_type": "code",
   "execution_count": null,
   "metadata": {},
   "outputs": [],
   "source": []
  }
 ],
 "metadata": {
  "kernelspec": {
   "display_name": "Python 3",
   "language": "python",
   "name": "python3"
  },
  "language_info": {
   "codemirror_mode": {
    "name": "ipython",
    "version": 3
   },
   "file_extension": ".py",
   "mimetype": "text/x-python",
   "name": "python",
   "nbconvert_exporter": "python",
   "pygments_lexer": "ipython3",
   "version": "3.6.9"
  }
 },
 "nbformat": 4,
 "nbformat_minor": 4
}
