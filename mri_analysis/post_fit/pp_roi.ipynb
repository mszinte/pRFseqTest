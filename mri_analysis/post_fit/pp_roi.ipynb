{
 "cells": [
  {
   "cell_type": "code",
   "execution_count": 1,
   "metadata": {},
   "outputs": [],
   "source": [
    "# Stop warnings\n",
    "# -------------\n",
    "import warnings\n",
    "warnings.filterwarnings(\"ignore\")\n",
    "\n",
    "# General imports\n",
    "# ---------------\n",
    "import os\n",
    "import sys\n",
    "import json\n",
    "import glob\n",
    "import numpy as np\n",
    "import matplotlib.pyplot as pl\n",
    "import ipdb\n",
    "import platform\n",
    "opj = os.path.join\n",
    "deb = ipdb.set_trace\n",
    "\n",
    "# MRI imports\n",
    "# -----------\n",
    "import nibabel as nb\n",
    "import cortex\n",
    "\n",
    "# Functions import\n",
    "# ----------------\n",
    "from utils import set_pycortex_config_file, convert_fit_results"
   ]
  },
  {
   "cell_type": "code",
   "execution_count": 2,
   "metadata": {},
   "outputs": [
    {
     "data": {
      "text/plain": [
       "0"
      ]
     },
     "execution_count": 2,
     "metadata": {},
     "output_type": "execute_result"
    }
   ],
   "source": [
    "# Get inputs\n",
    "# ----------\n",
    "subject = 'sub-01'\n",
    "fit_model = 'gauss'\n",
    "acq = 'acq-2p5mm'\n",
    "\n",
    "if fit_model == 'gauss': fit_val = 6\n",
    "elif fit_model == 'css': fit_val = 7\n",
    "\n",
    "# Define analysis parameters\n",
    "# --------------------------\n",
    "with open('../settings.json') as f:\n",
    "    json_s = f.read()\n",
    "    analysis_info = json.loads(json_s)\n",
    "base_dir = analysis_info['base_dir']\n",
    "    \n",
    "# Copy data from scratchw to scratch\n",
    "# ----------------------------------\n",
    "os.system(\"rsync -az --no-g --no-p --progress {scratchw}/ {scratch}\".format(\n",
    "                scratch = analysis_info['base_dir'],\n",
    "                scratchw  = analysis_info['base_dir_westmere']))"
   ]
  },
  {
   "cell_type": "code",
   "execution_count": 3,
   "metadata": {},
   "outputs": [],
   "source": [
    "# Check if all slices are present\n",
    "# -------------------------------\n",
    "\n",
    "# Original data to analyse\n",
    "data_file  =  \"{base_dir}/pp_data/{sub}/func/{sub}_task-AttendStim_{acq}_fmriprep_sg_psc_avg.nii.gz\".format(\n",
    "                                base_dir = base_dir,\n",
    "                                sub = subject,\n",
    "                                acq = acq)\n",
    "img_data = nb.load(data_file)\n",
    "data = img_data.get_fdata()\n",
    "\n",
    "mask_file  =  \"{base_dir}/pp_data/{sub}/func/{sub}_task-AttendStim_{acq}_fmriprep_mask_avg.nii.gz\".format(\n",
    "                                base_dir = base_dir,\n",
    "                                sub = subject,\n",
    "                                acq = acq)\n",
    "\n",
    "img_mask = nb.load(mask_file)\n",
    "mask = img_mask.get_fdata()\n",
    "slices = np.arange(mask.shape[2])[mask.mean(axis=(0,1))>0]"
   ]
  },
  {
   "cell_type": "code",
   "execution_count": 4,
   "metadata": {},
   "outputs": [],
   "source": [
    "est_files = []\n",
    "miss_files_nb = 0\n",
    "for slice_nb in slices:\n",
    "    \n",
    "    est_file = \"{base_dir}/pp_data/{subject}/{fit_model}/fit/{subject}_task-AttendStim_{acq}_est_z_{slice_nb}.nii.gz\".format(\n",
    "                                base_dir = base_dir,\n",
    "                                subject = subject,\n",
    "                                fit_model = fit_model,\n",
    "                                acq = acq,\n",
    "                                slice_nb = slice_nb\n",
    "                                )\n",
    "    if os.path.isfile(est_file):\n",
    "        if os.path.getsize(est_file) == 0:\n",
    "            num_miss_part += 1 \n",
    "        else:\n",
    "            est_files.append(est_file)\n",
    "    else:\n",
    "        miss_files_nb += 1\n",
    "\n",
    "# if miss_files_nb != 0:\n",
    "#     sys.exit('%i missing files, analysis stopped'%miss_files_nb)"
   ]
  },
  {
   "cell_type": "code",
   "execution_count": 5,
   "metadata": {},
   "outputs": [
    {
     "name": "stdout",
     "output_type": "stream",
     "text": [
      "combining est files\n"
     ]
    }
   ],
   "source": [
    "# Combine and save estimates\n",
    "# --------------------------\n",
    "print('combining est files')\n",
    "ests = np.zeros((data.shape[0],data.shape[1],data.shape[2],fit_val))\n",
    "for est_file in est_files:\n",
    "    img_est = nb.load(est_file)\n",
    "    est = img_est.get_fdata()\n",
    "    ests = ests + est\n",
    "\n",
    "# Save estimates data\n",
    "estfn = \"{base_dir}/pp_data/{subject}/{fit_model}/fit/{subject}_task-AttendStim_{acq}_est.nii.gz\".format(\n",
    "                                base_dir = base_dir,\n",
    "                                subject = subject,\n",
    "                                fit_model = fit_model,\n",
    "                                acq = acq\n",
    "                                )\n",
    "new_img = nb.Nifti1Image(dataobj = ests, affine = img_data.affine, header = img_data.header)\n",
    "new_img.to_filename(estfn)"
   ]
  },
  {
   "cell_type": "code",
   "execution_count": 7,
   "metadata": {},
   "outputs": [
    {
     "name": "stdout",
     "output_type": "stream",
     "text": [
      "extracting pRF derivatives\n",
      "> \u001b[0;32m/home/mszinte/projects/pRFseqTest/mri_analysis/post_fit/utils.py\u001b[0m(222)\u001b[0;36mconvert_fit_results\u001b[0;34m()\u001b[0m\n",
      "\u001b[0;32m    221 \u001b[0;31m\u001b[0;31m# #         exec('new_img.to_filename(os.path.join(output_dir,\"{mask_dir}\",\"prf_deriv_{mask_dir}.nii.gz\"))'.(mask_dir = mask_dir))\u001b[0m\u001b[0;34m\u001b[0m\u001b[0;34m\u001b[0m\u001b[0;34m\u001b[0m\u001b[0m\n",
      "\u001b[0m\u001b[0;32m--> 222 \u001b[0;31m\u001b[0;34m\u001b[0m\u001b[0m\n",
      "\u001b[0m\u001b[0;32m    223 \u001b[0;31m    \u001b[0;32mreturn\u001b[0m \u001b[0;32mNone\u001b[0m\u001b[0;34m\u001b[0m\u001b[0;34m\u001b[0m\u001b[0m\n",
      "\u001b[0m\n"
     ]
    },
    {
     "name": "stdin",
     "output_type": "stream",
     "text": [
      "ipdb>  q\n"
     ]
    },
    {
     "ename": "BdbQuit",
     "evalue": "",
     "output_type": "error",
     "traceback": [
      "\u001b[0;31m---------------------------------------------------------------------------\u001b[0m",
      "\u001b[0;31mBdbQuit\u001b[0m                                   Traceback (most recent call last)",
      "\u001b[0;32m<ipython-input-7-bea9a8cbb065>\u001b[0m in \u001b[0;36m<module>\u001b[0;34m\u001b[0m\n\u001b[1;32m     10\u001b[0m                     \u001b[0mstim_width\u001b[0m \u001b[0;34m=\u001b[0m \u001b[0manalysis_info\u001b[0m\u001b[0;34m[\u001b[0m\u001b[0;34m'stim_width'\u001b[0m\u001b[0;34m]\u001b[0m\u001b[0;34m,\u001b[0m\u001b[0;34m\u001b[0m\u001b[0;34m\u001b[0m\u001b[0m\n\u001b[1;32m     11\u001b[0m                     \u001b[0mstim_height\u001b[0m \u001b[0;34m=\u001b[0m \u001b[0manalysis_info\u001b[0m\u001b[0;34m[\u001b[0m\u001b[0;34m'stim_height'\u001b[0m\u001b[0;34m]\u001b[0m\u001b[0;34m,\u001b[0m\u001b[0;34m\u001b[0m\u001b[0;34m\u001b[0m\u001b[0m\n\u001b[0;32m---> 12\u001b[0;31m                     fit_model = fit_model)\n\u001b[0m",
      "\u001b[0;32m~/projects/pRFseqTest/mri_analysis/post_fit/utils.py\u001b[0m in \u001b[0;36mconvert_fit_results\u001b[0;34m(est_fn, output_dir, stim_width, stim_height, fit_model)\u001b[0m\n\u001b[1;32m    220\u001b[0m \u001b[0;31m# #         exec('new_img = nb.Nifti1Image(dataobj = prf_deriv_{mask_dir}, affine = img_est.affine, header = img_est.header)'.format(mask_dir = mask_dir))\u001b[0m\u001b[0;34m\u001b[0m\u001b[0;34m\u001b[0m\u001b[0;34m\u001b[0m\u001b[0m\n\u001b[1;32m    221\u001b[0m \u001b[0;31m# #         exec('new_img.to_filename(os.path.join(output_dir,\"{mask_dir}\",\"prf_deriv_{mask_dir}.nii.gz\"))'.(mask_dir = mask_dir))\u001b[0m\u001b[0;34m\u001b[0m\u001b[0;34m\u001b[0m\u001b[0;34m\u001b[0m\u001b[0m\n\u001b[0;32m--> 222\u001b[0;31m \u001b[0;34m\u001b[0m\u001b[0m\n\u001b[0m\u001b[1;32m    223\u001b[0m     \u001b[0;32mreturn\u001b[0m \u001b[0;32mNone\u001b[0m\u001b[0;34m\u001b[0m\u001b[0;34m\u001b[0m\u001b[0m\n\u001b[1;32m    224\u001b[0m \u001b[0;34m\u001b[0m\u001b[0m\n",
      "\u001b[0;32m~/projects/pRFseqTest/mri_analysis/post_fit/utils.py\u001b[0m in \u001b[0;36mconvert_fit_results\u001b[0;34m(est_fn, output_dir, stim_width, stim_height, fit_model)\u001b[0m\n\u001b[1;32m    220\u001b[0m \u001b[0;31m# #         exec('new_img = nb.Nifti1Image(dataobj = prf_deriv_{mask_dir}, affine = img_est.affine, header = img_est.header)'.format(mask_dir = mask_dir))\u001b[0m\u001b[0;34m\u001b[0m\u001b[0;34m\u001b[0m\u001b[0;34m\u001b[0m\u001b[0m\n\u001b[1;32m    221\u001b[0m \u001b[0;31m# #         exec('new_img.to_filename(os.path.join(output_dir,\"{mask_dir}\",\"prf_deriv_{mask_dir}.nii.gz\"))'.(mask_dir = mask_dir))\u001b[0m\u001b[0;34m\u001b[0m\u001b[0;34m\u001b[0m\u001b[0;34m\u001b[0m\u001b[0m\n\u001b[0;32m--> 222\u001b[0;31m \u001b[0;34m\u001b[0m\u001b[0m\n\u001b[0m\u001b[1;32m    223\u001b[0m     \u001b[0;32mreturn\u001b[0m \u001b[0;32mNone\u001b[0m\u001b[0;34m\u001b[0m\u001b[0;34m\u001b[0m\u001b[0m\n\u001b[1;32m    224\u001b[0m \u001b[0;34m\u001b[0m\u001b[0m\n",
      "\u001b[0;32m~/anaconda3/envs/idp/lib/python3.6/bdb.py\u001b[0m in \u001b[0;36mtrace_dispatch\u001b[0;34m(self, frame, event, arg)\u001b[0m\n\u001b[1;32m     49\u001b[0m             \u001b[0;32mreturn\u001b[0m \u001b[0;31m# None\u001b[0m\u001b[0;34m\u001b[0m\u001b[0;34m\u001b[0m\u001b[0m\n\u001b[1;32m     50\u001b[0m         \u001b[0;32mif\u001b[0m \u001b[0mevent\u001b[0m \u001b[0;34m==\u001b[0m \u001b[0;34m'line'\u001b[0m\u001b[0;34m:\u001b[0m\u001b[0;34m\u001b[0m\u001b[0;34m\u001b[0m\u001b[0m\n\u001b[0;32m---> 51\u001b[0;31m             \u001b[0;32mreturn\u001b[0m \u001b[0mself\u001b[0m\u001b[0;34m.\u001b[0m\u001b[0mdispatch_line\u001b[0m\u001b[0;34m(\u001b[0m\u001b[0mframe\u001b[0m\u001b[0;34m)\u001b[0m\u001b[0;34m\u001b[0m\u001b[0;34m\u001b[0m\u001b[0m\n\u001b[0m\u001b[1;32m     52\u001b[0m         \u001b[0;32mif\u001b[0m \u001b[0mevent\u001b[0m \u001b[0;34m==\u001b[0m \u001b[0;34m'call'\u001b[0m\u001b[0;34m:\u001b[0m\u001b[0;34m\u001b[0m\u001b[0;34m\u001b[0m\u001b[0m\n\u001b[1;32m     53\u001b[0m             \u001b[0;32mreturn\u001b[0m \u001b[0mself\u001b[0m\u001b[0;34m.\u001b[0m\u001b[0mdispatch_call\u001b[0m\u001b[0;34m(\u001b[0m\u001b[0mframe\u001b[0m\u001b[0;34m,\u001b[0m \u001b[0marg\u001b[0m\u001b[0;34m)\u001b[0m\u001b[0;34m\u001b[0m\u001b[0;34m\u001b[0m\u001b[0m\n",
      "\u001b[0;32m~/anaconda3/envs/idp/lib/python3.6/bdb.py\u001b[0m in \u001b[0;36mdispatch_line\u001b[0;34m(self, frame)\u001b[0m\n\u001b[1;32m     68\u001b[0m         \u001b[0;32mif\u001b[0m \u001b[0mself\u001b[0m\u001b[0;34m.\u001b[0m\u001b[0mstop_here\u001b[0m\u001b[0;34m(\u001b[0m\u001b[0mframe\u001b[0m\u001b[0;34m)\u001b[0m \u001b[0;32mor\u001b[0m \u001b[0mself\u001b[0m\u001b[0;34m.\u001b[0m\u001b[0mbreak_here\u001b[0m\u001b[0;34m(\u001b[0m\u001b[0mframe\u001b[0m\u001b[0;34m)\u001b[0m\u001b[0;34m:\u001b[0m\u001b[0;34m\u001b[0m\u001b[0;34m\u001b[0m\u001b[0m\n\u001b[1;32m     69\u001b[0m             \u001b[0mself\u001b[0m\u001b[0;34m.\u001b[0m\u001b[0muser_line\u001b[0m\u001b[0;34m(\u001b[0m\u001b[0mframe\u001b[0m\u001b[0;34m)\u001b[0m\u001b[0;34m\u001b[0m\u001b[0;34m\u001b[0m\u001b[0m\n\u001b[0;32m---> 70\u001b[0;31m             \u001b[0;32mif\u001b[0m \u001b[0mself\u001b[0m\u001b[0;34m.\u001b[0m\u001b[0mquitting\u001b[0m\u001b[0;34m:\u001b[0m \u001b[0;32mraise\u001b[0m \u001b[0mBdbQuit\u001b[0m\u001b[0;34m\u001b[0m\u001b[0;34m\u001b[0m\u001b[0m\n\u001b[0m\u001b[1;32m     71\u001b[0m         \u001b[0;32mreturn\u001b[0m \u001b[0mself\u001b[0m\u001b[0;34m.\u001b[0m\u001b[0mtrace_dispatch\u001b[0m\u001b[0;34m\u001b[0m\u001b[0;34m\u001b[0m\u001b[0m\n\u001b[1;32m     72\u001b[0m \u001b[0;34m\u001b[0m\u001b[0m\n",
      "\u001b[0;31mBdbQuit\u001b[0m: "
     ]
    }
   ],
   "source": [
    "from utils import set_pycortex_config_file, convert_fit_results\n",
    "# Compute derived measures from prfs\n",
    "# ----------------------------------\n",
    "print('extracting pRF derivatives')\n",
    "\n",
    "deriv_dir = opj(base_dir,'pp_data',subject,fit_model,'deriv')\n",
    "\n",
    "convert_fit_results(est_fn = estfn,\n",
    "                    output_dir = deriv_dir,\n",
    "                    stim_width = analysis_info['stim_width'],\n",
    "                    stim_height = analysis_info['stim_height'],\n",
    "                    fit_model = fit_model)"
   ]
  },
  {
   "cell_type": "code",
   "execution_count": 21,
   "metadata": {},
   "outputs": [
    {
     "data": {
      "text/plain": [
       "'gauss'"
      ]
     },
     "execution_count": 21,
     "metadata": {},
     "output_type": "execute_result"
    }
   ],
   "source": [
    "fit_model"
   ]
  },
  {
   "cell_type": "code",
   "execution_count": null,
   "metadata": {},
   "outputs": [],
   "source": []
  }
 ],
 "metadata": {
  "kernelspec": {
   "display_name": "Python 3",
   "language": "python",
   "name": "python3"
  },
  "language_info": {
   "codemirror_mode": {
    "name": "ipython",
    "version": 3
   },
   "file_extension": ".py",
   "mimetype": "text/x-python",
   "name": "python",
   "nbconvert_exporter": "python",
   "pygments_lexer": "ipython3",
   "version": "3.6.8"
  }
 },
 "nbformat": 4,
 "nbformat_minor": 4
}
