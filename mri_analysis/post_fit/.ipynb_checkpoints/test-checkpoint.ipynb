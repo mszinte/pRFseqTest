{
 "cells": [
  {
   "cell_type": "code",
   "execution_count": 1,
   "metadata": {},
   "outputs": [
    {
     "name": "stdout",
     "output_type": "stream",
     "text": [
      "191018-17:48:14,497 nipype.utils INFO:\n",
      "\t Running nipype version 1.2.3 (latest: 1.2.3)\n"
     ]
    },
    {
     "name": "stderr",
     "output_type": "stream",
     "text": [
      "/Users/martin/anaconda3/envs/idp/lib/python3.6/site-packages/sklearn/externals/joblib/__init__.py:15: DeprecationWarning: sklearn.externals.joblib is deprecated in 0.21 and will be removed in 0.23. Please import this functionality directly from joblib, which can be installed with: pip install joblib. If this warning is raised when loading pickled models, you may need to re-serialize those models with scikit-learn 0.21+.\n",
      "  warnings.warn(msg, category=DeprecationWarning)\n"
     ]
    }
   ],
   "source": [
    "# Stop warnings\n",
    "# -------------\n",
    "import warnings\n",
    "warnings.filterwarnings(\"ignore\")\n",
    "\n",
    "# General imports\n",
    "# ---------------\n",
    "import os\n",
    "import sys\n",
    "import json\n",
    "import numpy as np\n",
    "import ipdb\n",
    "import platform\n",
    "import matplotlib.pyplot as plt\n",
    "opj = os.path.join\n",
    "deb = ipdb.set_trace\n",
    "\n",
    "# MRI imports\n",
    "# -----------\n",
    "import nibabel as nb\n",
    "import cortex\n",
    "from cortex.fmriprep import *\n",
    "from nipype.interfaces import fsl, freesurfer\n",
    "from nilearn import image\n",
    "\n",
    "# Functions import\n",
    "# ----------------\n",
    "from utils import set_pycortex_config_file, draw_cortex_vertex\n",
    "\n",
    "# Get inputs\n",
    "# ----------\n",
    "subject = 'sub-01'\n",
    "acq = 'acq-2p5mm'\n",
    "fit_model = 'gauss'\n",
    "\n",
    "# Define analysis parameters\n",
    "# --------------------------\n",
    "with open('../settings.json') as f:\n",
    "    json_s = f.read()\n",
    "    analysis_info = json.loads(json_s)\n",
    "\n",
    "# Define folder\n",
    "# -------------\n",
    "base_dir = analysis_info['base_dir_local']\n",
    "deriv_dir = opj(base_dir,'pp_data',subject,fit_model,'deriv')\n",
    "cortex_dir = \"{base_dir}/pp_data/cortex/db/{subject}\".format(base_dir = base_dir, subject = subject)\n",
    "fs_dir = \"{base_dir}/deriv_data/fmriprep/freesurfer/\".format(base_dir = base_dir)\n",
    "fmriprep_dir = \"{base_dir}/deriv_data/fmriprep/\".format(base_dir = base_dir)\n",
    "bids_dir = \"{base_dir}/bids_data/\".format(base_dir = base_dir)\n",
    "xfm_name = 'identity.t1w'\n",
    "\n",
    "# Set pycortex db and colormaps\n",
    "# -----------------------------\n",
    "set_pycortex_config_file(base_dir)\n",
    "\n",
    "# Add participant to pycortex db\n",
    "# ------------------------------\n",
    "if os.path.isdir(cortex_dir) == False:\n",
    "    cortex.fmriprep.import_subj(subject = subject[-2:], source_dir = fmriprep_dir, sname = subject)\n",
    "    cortex.freesurfer.import_flat(subject = subject, patch = 'full', freesurfer_subject_dir = fs_dir, sname = subject)\n",
    "    \n",
    "    t1w = cortex.db.get_anat(subject)\n",
    "    transform = cortex.xfm.Transform(np.identity(4), t1w)\n",
    "    transform.save(subject, xfm_name, 'magnet')"
   ]
  },
  {
   "cell_type": "code",
   "execution_count": 6,
   "metadata": {},
   "outputs": [
    {
     "ename": "KeyboardInterrupt",
     "evalue": "",
     "output_type": "error",
     "traceback": [
      "\u001b[0;31m---------------------------------------------------------------------------\u001b[0m",
      "\u001b[0;31mKeyboardInterrupt\u001b[0m                         Traceback (most recent call last)",
      "\u001b[0;32m<ipython-input-6-987b86309182>\u001b[0m in \u001b[0;36m<module>\u001b[0;34m\u001b[0m\n\u001b[1;32m     16\u001b[0m \u001b[0mtc_file\u001b[0m \u001b[0;34m=\u001b[0m \u001b[0;34m\"{base_dir}/pp_data/{subject}/func/{subject}_task-AttendStim_{acq}_fmriprep_sg_psc_avg.nii.gz\"\u001b[0m\u001b[0;34m.\u001b[0m\u001b[0mformat\u001b[0m\u001b[0;34m(\u001b[0m\u001b[0mbase_dir\u001b[0m \u001b[0;34m=\u001b[0m \u001b[0mbase_dir\u001b[0m\u001b[0;34m,\u001b[0m \u001b[0msubject\u001b[0m \u001b[0;34m=\u001b[0m \u001b[0msubject\u001b[0m\u001b[0;34m,\u001b[0m \u001b[0macq\u001b[0m \u001b[0;34m=\u001b[0m \u001b[0macq\u001b[0m\u001b[0;34m)\u001b[0m\u001b[0;34m\u001b[0m\u001b[0;34m\u001b[0m\u001b[0m\n\u001b[1;32m     17\u001b[0m \u001b[0mimg_tc\u001b[0m \u001b[0;34m=\u001b[0m \u001b[0mnb\u001b[0m\u001b[0;34m.\u001b[0m\u001b[0mload\u001b[0m\u001b[0;34m(\u001b[0m\u001b[0mtc_file\u001b[0m\u001b[0;34m)\u001b[0m\u001b[0;34m\u001b[0m\u001b[0;34m\u001b[0m\u001b[0m\n\u001b[0;32m---> 18\u001b[0;31m \u001b[0mtc_rs\u001b[0m \u001b[0;34m=\u001b[0m \u001b[0mimage\u001b[0m\u001b[0;34m.\u001b[0m\u001b[0mresample_to_img\u001b[0m\u001b[0;34m(\u001b[0m\u001b[0msource_img\u001b[0m \u001b[0;34m=\u001b[0m \u001b[0mimg_tc\u001b[0m\u001b[0;34m,\u001b[0m \u001b[0mtarget_img\u001b[0m \u001b[0;34m=\u001b[0m \u001b[0mt1w\u001b[0m\u001b[0;34m,\u001b[0m \u001b[0minterpolation\u001b[0m \u001b[0;34m=\u001b[0m \u001b[0;34m'nearest'\u001b[0m\u001b[0;34m)\u001b[0m\u001b[0;34m\u001b[0m\u001b[0;34m\u001b[0m\u001b[0m\n\u001b[0m\u001b[1;32m     19\u001b[0m \u001b[0;31m# tc_rs = deriv_rs.get_data()\u001b[0m\u001b[0;34m\u001b[0m\u001b[0;34m\u001b[0m\u001b[0;34m\u001b[0m\u001b[0m\n\u001b[1;32m     20\u001b[0m \u001b[0mdeb\u001b[0m\u001b[0;34m(\u001b[0m\u001b[0;34m)\u001b[0m\u001b[0;34m\u001b[0m\u001b[0;34m\u001b[0m\u001b[0m\n",
      "\u001b[0;32m~/anaconda3/envs/idp/lib/python3.6/site-packages/nilearn/image/resampling.py\u001b[0m in \u001b[0;36mresample_to_img\u001b[0;34m(source_img, target_img, interpolation, copy, order, clip, fill_value)\u001b[0m\n\u001b[1;32m    617\u001b[0m                         \u001b[0mtarget_shape\u001b[0m\u001b[0;34m=\u001b[0m\u001b[0mtarget_shape\u001b[0m\u001b[0;34m,\u001b[0m\u001b[0;34m\u001b[0m\u001b[0;34m\u001b[0m\u001b[0m\n\u001b[1;32m    618\u001b[0m                         \u001b[0minterpolation\u001b[0m\u001b[0;34m=\u001b[0m\u001b[0minterpolation\u001b[0m\u001b[0;34m,\u001b[0m \u001b[0mcopy\u001b[0m\u001b[0;34m=\u001b[0m\u001b[0mcopy\u001b[0m\u001b[0;34m,\u001b[0m \u001b[0morder\u001b[0m\u001b[0;34m=\u001b[0m\u001b[0morder\u001b[0m\u001b[0;34m,\u001b[0m\u001b[0;34m\u001b[0m\u001b[0;34m\u001b[0m\u001b[0m\n\u001b[0;32m--> 619\u001b[0;31m                         clip=clip, fill_value=fill_value)\n\u001b[0m\u001b[1;32m    620\u001b[0m \u001b[0;34m\u001b[0m\u001b[0m\n\u001b[1;32m    621\u001b[0m \u001b[0;34m\u001b[0m\u001b[0m\n",
      "\u001b[0;32m~/anaconda3/envs/idp/lib/python3.6/site-packages/nilearn/image/resampling.py\u001b[0m in \u001b[0;36mresample_img\u001b[0;34m(img, target_affine, target_shape, interpolation, copy, order, clip, fill_value)\u001b[0m\n\u001b[1;32m    541\u001b[0m                           \u001b[0mout\u001b[0m\u001b[0;34m=\u001b[0m\u001b[0mresampled_data\u001b[0m\u001b[0;34m[\u001b[0m\u001b[0mall_img\u001b[0m \u001b[0;34m+\u001b[0m \u001b[0mind\u001b[0m\u001b[0;34m]\u001b[0m\u001b[0;34m,\u001b[0m\u001b[0;34m\u001b[0m\u001b[0;34m\u001b[0m\u001b[0m\n\u001b[1;32m    542\u001b[0m                           \u001b[0mcopy\u001b[0m\u001b[0;34m=\u001b[0m\u001b[0;32mnot\u001b[0m \u001b[0minput_img_is_string\u001b[0m\u001b[0;34m,\u001b[0m\u001b[0;34m\u001b[0m\u001b[0;34m\u001b[0m\u001b[0m\n\u001b[0;32m--> 543\u001b[0;31m                           fill_value=fill_value)\n\u001b[0m\u001b[1;32m    544\u001b[0m \u001b[0;34m\u001b[0m\u001b[0m\n\u001b[1;32m    545\u001b[0m     \u001b[0;32mif\u001b[0m \u001b[0mclip\u001b[0m\u001b[0;34m:\u001b[0m\u001b[0;34m\u001b[0m\u001b[0;34m\u001b[0m\u001b[0m\n",
      "\u001b[0;32m~/anaconda3/envs/idp/lib/python3.6/site-packages/nilearn/image/resampling.py\u001b[0m in \u001b[0;36m_resample_one_img\u001b[0;34m(data, A, b, target_shape, interpolation_order, out, copy, fill_value)\u001b[0m\n\u001b[1;32m    283\u001b[0m                                                 \u001b[0moffset\u001b[0m\u001b[0;34m=\u001b[0m\u001b[0mb\u001b[0m\u001b[0;34m,\u001b[0m\u001b[0;34m\u001b[0m\u001b[0;34m\u001b[0m\u001b[0m\n\u001b[1;32m    284\u001b[0m                                                 \u001b[0moutput_shape\u001b[0m\u001b[0;34m=\u001b[0m\u001b[0mtarget_shape\u001b[0m\u001b[0;34m,\u001b[0m\u001b[0;34m\u001b[0m\u001b[0;34m\u001b[0m\u001b[0m\n\u001b[0;32m--> 285\u001b[0;31m                                                 order=0)\n\u001b[0m\u001b[1;32m    286\u001b[0m         \u001b[0mout\u001b[0m\u001b[0;34m[\u001b[0m\u001b[0mnot_finite\u001b[0m\u001b[0;34m]\u001b[0m \u001b[0;34m=\u001b[0m \u001b[0mnp\u001b[0m\u001b[0;34m.\u001b[0m\u001b[0mnan\u001b[0m\u001b[0;34m\u001b[0m\u001b[0;34m\u001b[0m\u001b[0m\n\u001b[1;32m    287\u001b[0m     \u001b[0;32mreturn\u001b[0m \u001b[0mout\u001b[0m\u001b[0;34m\u001b[0m\u001b[0;34m\u001b[0m\u001b[0m\n",
      "\u001b[0;32m~/anaconda3/envs/idp/lib/python3.6/site-packages/scipy/ndimage/interpolation.py\u001b[0m in \u001b[0;36maffine_transform\u001b[0;34m(input, matrix, offset, output_shape, output, order, mode, cval, prefilter)\u001b[0m\n\u001b[1;32m    484\u001b[0m     \u001b[0;32melse\u001b[0m\u001b[0;34m:\u001b[0m\u001b[0;34m\u001b[0m\u001b[0;34m\u001b[0m\u001b[0m\n\u001b[1;32m    485\u001b[0m         _nd_image.geometric_transform(filtered, None, None, matrix, offset,\n\u001b[0;32m--> 486\u001b[0;31m                                       output, order, mode, cval, None, None)\n\u001b[0m\u001b[1;32m    487\u001b[0m     \u001b[0;32mreturn\u001b[0m \u001b[0moutput\u001b[0m\u001b[0;34m\u001b[0m\u001b[0;34m\u001b[0m\u001b[0m\n\u001b[1;32m    488\u001b[0m \u001b[0;34m\u001b[0m\u001b[0m\n",
      "\u001b[0;31mKeyboardInterrupt\u001b[0m: "
     ]
    }
   ],
   "source": [
    "# Draw pycortex flatmaps\n",
    "# ----------------------\n",
    "sign_idx, rsq_idx, ecc_idx, polar_real_idx, polar_imag_idx , size_idx, \\\n",
    "            non_lin_idx, amp_idx, baseline_idx, cov_idx, x_idx, y_idx = 0,1,2,3,4,5,6,7,8,9,10,11\n",
    "\n",
    "cmap_neg_pos = 'RdBu_r'\n",
    "cmap_polar = 'Retinotopy_RYBCR'\n",
    "col_offset = 14/16\n",
    "polar_col_steps = [4.0, 8.0, 16.0, 255.0]\n",
    "\n",
    "cmap_uni = 'Reds'\n",
    "cmap_ecc_size = 'Spectral'\n",
    "t1w = cortex.db.get_anat(subject)\n",
    "\n",
    "# time course volume\n",
    "tc_file = \"{base_dir}/pp_data/{subject}/func/{subject}_task-AttendStim_{acq}_fmriprep_sg_psc_avg.nii.gz\".format(base_dir = base_dir, subject = subject, acq = acq)\n",
    "img_tc = nb.load(tc_file)\n",
    "tc_rs = image.resample_to_img(source_img = img_tc, target_img = t1w, interpolation = 'nearest')\n",
    "# tc_rs = deriv_rs.get_data()\n",
    "deb()\n",
    "\n"
   ]
  },
  {
   "cell_type": "code",
   "execution_count": null,
   "metadata": {},
   "outputs": [],
   "source": [
    "for mask_dir in ['all','pos','neg']:\n",
    "\n",
    "    print('draw pycortex flatmaps: {mask_dir}'.format(mask_dir = mask_dir))\n",
    "    # Create figure folders\n",
    "    maps_names = []\n",
    "    exec('flatmaps_dir_{mask_dir} = opj(base_dir,\"pp_data\",subject,fit_model,\"pycortex_outputs\",\"flatmaps\",\"{mask_dir}\")'.format(mask_dir = mask_dir))\n",
    "    exec('dataset_dir_{mask_dir} = opj(base_dir,\"pp_data\",subject,fit_model,\"pycortex_outputs\",\"dataset\",\"{mask_dir}\")'.format(mask_dir = mask_dir))\n",
    "    exec('webviewer_dir_{mask_dir} = opj(base_dir,\"pp_data\",subject,fit_model,\"pycortex_outputs\",\"webviewer\",\"{mask_dir}\")'.format(mask_dir = mask_dir))\n",
    "    try: \n",
    "        exec('os.makedirs(flatmaps_dir_{mask_dir})'.format(mask_dir=mask_dir))\n",
    "        exec('os.makedirs(dataset_dir_{mask_dir})'.format(mask_dir=mask_dir))\n",
    "        exec('os.makedirs(webviewer_dir_{mask_dir})'.format(mask_dir=mask_dir))\n",
    "    except: \n",
    "        pass\n",
    "    \n",
    "\n",
    "    # Load data\n",
    "    deriv_mat_file = \"{deriv_dir}/{mask_dir}/prf_deriv_{acq}_{mask_dir}.nii.gz\".format(deriv_dir = deriv_dir,acq = acq, mask_dir = mask_dir)\n",
    "    img_deriv_mat = nb.load(deriv_mat_file)\n",
    "#     deriv_mat = img_deriv_mat.get_data()\n",
    "\n",
    "    # interpolate to t1w\n",
    "    deriv_rs = image.resample_to_img(source_img = img_deriv_mat, target_img = t1w, interpolation = 'nearest')\n",
    "    deriv_mat_rs = deriv_rs.get_data()\n",
    "    \n",
    "    # R-square\n",
    "    rsq_data = deriv_mat_rs[...,rsq_idx]\n",
    "    alpha = rsq_data\n",
    "    param_rsq = {'data': rsq_data, 'cmap': cmap_uni, 'alpha': alpha, 'vmin': 0,'vmax': 1,'cbar': 'discrete', 'description': 'pRF rsquare', 'curv_brightness': 1, 'curv_contrast': 0.1}\n",
    "    maps_names.append('rsq')\n",
    "\n",
    "    # Polar angle\n",
    "    pol_comp_num = deriv_mat_rs[...,polar_real_idx] + 1j * deriv_mat_rs[...,polar_imag_idx]\n",
    "    polar_ang = np.angle(pol_comp_num)\n",
    "    ang_norm = (polar_ang + np.pi) / (np.pi * 2.0)\n",
    "    ang_norm = np.fmod(ang_norm + col_offset,1)\n",
    "\n",
    "    for cmap_steps in polar_col_steps:\n",
    "        param_polar = {'data': ang_norm, 'cmap': cmap_polar, 'alpha': alpha, 'vmin': 0, 'vmax': 1, 'cmap_steps': cmap_steps,\n",
    "                       'cbar': 'polar', 'col_offset': col_offset, 'description': 'pRF polar:{:3.0f} steps'.format(cmap_steps), 'curv_brightness': 0.1, 'curv_contrast': 0.25}\n",
    "        exec('param_polar_{csteps} = param_polar'.format(csteps = int(cmap_steps)))\n",
    "        exec('maps_names.append(\"polar_{csteps}\")'.format(csteps = int(cmap_steps)))\n",
    "\n",
    "    # Eccentricity\n",
    "    ecc_data = deriv_mat_rs[...,ecc_idx]\n",
    "    param_ecc = {'data': ecc_data, 'cmap': cmap_ecc_size, 'alpha': alpha, 'vmin': 0, 'vmax': 15,'cbar': 'ecc', 'description': 'pRF eccentricity', 'curv_brightness': 1, 'curv_contrast': 0.1}\n",
    "    maps_names.append('ecc')\n",
    "\n",
    "    # Sign\n",
    "    sign_data = deriv_mat_rs[...,sign_idx]\n",
    "    param_sign = {'data': sign_data, 'cmap': cmap_neg_pos, 'alpha': alpha, 'vmin': -1, 'vmax': 1, 'cbar': 'discrete', 'description': 'pRF sign', 'curv_brightness': 1, 'curv_contrast': 0.1}\n",
    "    maps_names.append('sign')\n",
    "\n",
    "    # Size\n",
    "    size_data = deriv_mat_rs[...,size_idx]\n",
    "    param_size = {'data': size_data, 'cmap': cmap_ecc_size, 'alpha': alpha, 'vmin': 0, 'vmax': 8, 'cbar': 'discrete', 'description': 'pRF size', 'curv_brightness': 1, 'curv_contrast': 0.1}\n",
    "    maps_names.append('size')\n",
    "\n",
    "    # Coverage\n",
    "    cov_data = deriv_mat_rs[...,cov_idx]\n",
    "    param_cov = {'data': cov_data, 'cmap': cmap_uni, 'alpha': alpha,'vmin': 0, 'vmax': 1, 'cbar': 'discrete', 'description': 'pRF coverage', 'curv_brightness': 1, 'curv_contrast': 0.1}\n",
    "    maps_names.append('cov')\n",
    "\n",
    "#     # Draw flatmaps\n",
    "#     volumes = {}\n",
    "#     for maps_name in maps_names:\n",
    "#         roi_name = '{maps_name}_{mask_dir}'.format(maps_name = maps_name, mask_dir = mask_dir)\n",
    "\n",
    "#         roi_param = {'subject': subject, 'xfmname': xfm_name, 'add_roi': False, 'roi_name': roi_name}\n",
    "\n",
    "#         exec('param_{maps_name}.update(roi_param)'.format(maps_name = maps_name))\n",
    "#         exec('volume_{maps_name} = draw_cortex_vertex(**param_{maps_name})'.format(maps_name=maps_name))\n",
    "#         exec('plt.savefig(opj(flatmaps_dir_{mask_dir}, \"{maps_name}_{acq}_{mask_dir}.pdf\"),facecolor=\"w\")'.format(mask_dir = mask_dir,maps_name = maps_name, acq = acq))\n",
    "#         plt.close()\n",
    "#         exec('vol_description = param_{maps_name}[\"description\"]'.format(maps_name = maps_name))\n",
    "#         exec('volume = volume_{maps_name}'.format(maps_name = maps_name))\n",
    "#         volumes.update({vol_description:volume})\n",
    "\n",
    "    \n",
    "    \n",
    "    \n",
    "    print('save pycortex dataset: {mask_dir}'.format(mask_dir = mask_dir))\n",
    "    exec('dataset_{mask_dir} = cortex.Dataset(data = volumes)'.format(mask_dir = mask_dir))\n",
    "    exec('dataset_{mask_dir}.save(opj(dataset_dir_{mask_dir}, \"{acq}_{mask_dir}.hdf\"))'.format(acq = acq, mask_dir = mask_dir))\n",
    "    \n",
    "    print('save pycortex webviewer: {mask_dir}'.format(mask_dir = mask_dir))\n",
    "    exec('cortex.webgl.make_static(outpath = webviewer_dir_{mask_dir}, data = volumes)'.format(acq = acq, mask_dir = mask_dir))\n",
    "\n"
   ]
  },
  {
   "cell_type": "code",
   "execution_count": 78,
   "metadata": {},
   "outputs": [
    {
     "name": "stdout",
     "output_type": "stream",
     "text": [
      "Generating new ctm file...\n",
      "wm\n",
      "wm\n",
      "inflated\n",
      "inflated\n",
      "Started server on port 27021\n"
     ]
    },
    {
     "data": {
      "text/plain": [
       "<JS: window.viewer>"
      ]
     },
     "execution_count": 78,
     "metadata": {},
     "output_type": "execute_result"
    }
   ],
   "source": [
    "# create viewer\n",
    "cortex.webgl.show(data=volumes)"
   ]
  },
  {
   "cell_type": "code",
   "execution_count": 91,
   "metadata": {},
   "outputs": [
    {
     "data": {
      "text/plain": [
       "'/Users/martin/disks/meso_S/data/pRFseqTest/pp_data/sub-01/gauss/pycortex_outputs/flatmaps/all'"
      ]
     },
     "execution_count": 91,
     "metadata": {},
     "output_type": "execute_result"
    }
   ],
   "source": [
    "flatmaps_dir_all"
   ]
  },
  {
   "cell_type": "code",
   "execution_count": 81,
   "metadata": {},
   "outputs": [
    {
     "name": "stdout",
     "output_type": "stream",
     "text": [
      "Generating new ctm file...\n",
      "wm\n",
      "wm\n",
      "inflated\n",
      "inflated\n"
     ]
    }
   ],
   "source": [
    "cortex.webgl.make_static(outpath = '/Users/martin/disks/meso_S/data/pRFseqTest/pp_data/sub-01/gauss/web_viewer/', data=volumes)"
   ]
  },
  {
   "cell_type": "code",
   "execution_count": 83,
   "metadata": {},
   "outputs": [
    {
     "data": {
      "text/plain": [
       "{'pRF rsquare': <RGB volumetric data for (sub-01, identity.t1w)>,\n",
       " 'pRF polar:  4 steps': <RGB volumetric data for (sub-01, identity.t1w)>,\n",
       " 'pRF polar:  8 steps': <RGB volumetric data for (sub-01, identity.t1w)>,\n",
       " 'pRF polar: 16 steps': <RGB volumetric data for (sub-01, identity.t1w)>,\n",
       " 'pRF polar:255 steps': <RGB volumetric data for (sub-01, identity.t1w)>,\n",
       " 'pRF eccentricity': <RGB volumetric data for (sub-01, identity.t1w)>,\n",
       " 'pRF sign': <RGB volumetric data for (sub-01, identity.t1w)>,\n",
       " 'pRF size': <RGB volumetric data for (sub-01, identity.t1w)>,\n",
       " 'pRF coverage': <RGB volumetric data for (sub-01, identity.t1w)>}"
      ]
     },
     "execution_count": 83,
     "metadata": {},
     "output_type": "execute_result"
    }
   ],
   "source": [
    "volumes"
   ]
  },
  {
   "cell_type": "code",
   "execution_count": 74,
   "metadata": {},
   "outputs": [],
   "source": []
  },
  {
   "cell_type": "code",
   "execution_count": 75,
   "metadata": {},
   "outputs": [
    {
     "data": {
      "text/plain": [
       "{'pRF rsquare': <RGB volumetric data for (sub-01, identity.t1w)>}"
      ]
     },
     "execution_count": 75,
     "metadata": {},
     "output_type": "execute_result"
    }
   ],
   "source": [
    "volumes"
   ]
  },
  {
   "cell_type": "code",
   "execution_count": null,
   "metadata": {},
   "outputs": [],
   "source": []
  }
 ],
 "metadata": {
  "kernelspec": {
   "display_name": "Python 3",
   "language": "python",
   "name": "python3"
  },
  "language_info": {
   "codemirror_mode": {
    "name": "ipython",
    "version": 3
   },
   "file_extension": ".py",
   "mimetype": "text/x-python",
   "name": "python",
   "nbconvert_exporter": "python",
   "pygments_lexer": "ipython3",
   "version": "3.6.9"
  }
 },
 "nbformat": 4,
 "nbformat_minor": 4
}
