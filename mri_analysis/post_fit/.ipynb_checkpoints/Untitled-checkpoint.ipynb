{
 "cells": [
  {
   "cell_type": "code",
   "execution_count": null,
   "metadata": {},
   "outputs": [],
   "source": [
    "# General imports\n",
    "# ---------------\n",
    "import os\n",
    "import shutil\n",
    "import sys\n",
    "import json\n",
    "import numpy as np\n",
    "import ipdb\n",
    "import matplotlib.pyplot as plt\n",
    "opj = os.path.join\n",
    "deb = ipdb.set_trace\n",
    "\n",
    "# MRI imports\n",
    "# -----------\n",
    "import nibabel as nb\n",
    "import cortex\n",
    "\n",
    "# Function import\n",
    "# ---------------\n",
    "from utils import set_pycortex_config_file\n",
    "\n",
    "# Get inputs\n",
    "# ----------\n",
    "subject = sys.argv[1]\n",
    "# acq = sys.argv[2]\n",
    "# fit_model = sys.argv[3]\n",
    "\n",
    "# Define analysis parameters\n",
    "# --------------------------\n",
    "with open('settings.json') as f:\n",
    "    json_s = f.read()\n",
    "    analysis_info = json.loads(json_s)\n",
    "\n",
    "# Define folders and settings\n",
    "# ---------------------------\n",
    "base_dir = analysis_info['base_dir_local']\n",
    "xfm_name = analysis_info['xfm_name']\n",
    "rois = analysis_info['rois']\n",
    "gm_sampler = analysis_info['gm_sampler']\n",
    "\n",
    "# Set pycortex db and colormaps\n",
    "# -----------------------------\n",
    "set_pycortex_config_file(base_dir)"
   ]
  },
  {
   "cell_type": "code",
   "execution_count": null,
   "metadata": {},
   "outputs": [],
   "source": [
    "# Create ROI masks\n",
    "# ----------------\n",
    "roi_masks = cortex.utils.get_roi_masks(subject = subject, xfmname = xfm_name, roi_list = rois, return_dict=True)"
   ]
  }
 ],
 "metadata": {
  "kernelspec": {
   "display_name": "Python 3",
   "language": "python",
   "name": "python3"
  },
  "language_info": {
   "codemirror_mode": {
    "name": "ipython",
    "version": 3
   },
   "file_extension": ".py",
   "mimetype": "text/x-python",
   "name": "python",
   "nbconvert_exporter": "python",
   "pygments_lexer": "ipython3",
   "version": "3.6.9"
  }
 },
 "nbformat": 4,
 "nbformat_minor": 4
}
